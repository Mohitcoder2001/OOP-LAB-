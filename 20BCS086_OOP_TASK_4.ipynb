{
  "nbformat": 4,
  "nbformat_minor": 0,
  "metadata": {
    "colab": {
      "name": "20BCS086_OOP_TASK_4.ipynb",
      "provenance": [],
      "collapsed_sections": [],
      "authorship_tag": "ABX9TyMHD0tCjqf2z10PJg+o6OqU",
      "include_colab_link": true
    },
    "kernelspec": {
      "name": "python3",
      "display_name": "Python 3"
    },
    "language_info": {
      "name": "python"
    }
  },
  "cells": [
    {
      "cell_type": "markdown",
      "metadata": {
        "id": "view-in-github",
        "colab_type": "text"
      },
      "source": [
        "<a href=\"https://colab.research.google.com/github/Mohitcoder2001/OOP-LAB-/blob/main/20BCS086_OOP_TASK_4.ipynb\" target=\"_parent\"><img src=\"https://colab.research.google.com/assets/colab-badge.svg\" alt=\"Open In Colab\"/></a>"
      ]
    },
    {
      "cell_type": "code",
      "metadata": {
        "colab": {
          "base_uri": "https://localhost:8080/"
        },
        "id": "VwfGiSHWykJd",
        "outputId": "08be5722-8c1b-4966-d6a6-5da21d841c3f"
      },
      "source": [
        "# QUESTION - 3\n",
        "class Queue:\n",
        "    def __init__(self):\n",
        "        self.items = []\n",
        "\n",
        "    def isEmpty(self):\n",
        "        return self.items == []\n",
        "\n",
        "    def enqueue(self, item):\n",
        "        self.items.insert(0,item)\n",
        "\n",
        "    def dequeue(self):\n",
        "        return self.items.pop()\n",
        "\n",
        "    def size(self):\n",
        "        return len(self.items)\n",
        "    def __del__(self):\n",
        "      print(\"Queque has been deleted\")\n",
        "q = Queue()\n",
        "q.enqueue(3)\n",
        "q.enqueue(5)\n",
        "q.enqueue(8)\n",
        "q.enqueue(9)\n",
        "\n",
        "\n",
        "print(q.size())\n",
        "del q      "
      ],
      "execution_count": 11,
      "outputs": [
        {
          "output_type": "stream",
          "name": "stdout",
          "text": [
            "4\n",
            "Queque has been deleted\n"
          ]
        }
      ]
    },
    {
      "cell_type": "code",
      "metadata": {
        "colab": {
          "base_uri": "https://localhost:8080/"
        },
        "id": "KmUBmwyz0VnQ",
        "outputId": "c586405d-194d-4348-ad40-efff5743c6b7"
      },
      "source": [
        "# QUESTION - 2 \n",
        "class RECTANGLE:\n",
        "  def __init__(self,length,breadth):\n",
        "    self.length = length\n",
        "    self.breadth = breadth\n",
        "\n",
        "  def area(self):\n",
        "    return self.length*self.breadth\n",
        "\n",
        "R1 = RECTANGLE(25,28)\n",
        "print(R1.area())"
      ],
      "execution_count": 13,
      "outputs": [
        {
          "output_type": "stream",
          "name": "stdout",
          "text": [
            "700\n"
          ]
        }
      ]
    },
    {
      "cell_type": "code",
      "metadata": {
        "colab": {
          "base_uri": "https://localhost:8080/"
        },
        "id": "jeGmck6n4lXx",
        "outputId": "8e96a0ad-6dbd-48a7-b584-0445958e9e24"
      },
      "source": [
        "# question - 1\n",
        "\n",
        "\n",
        "class Stack:\n",
        "     def __init__(self):\n",
        "         self.items = []\n",
        "\n",
        "     def isEmpty(self):\n",
        "         return self.items == []\n",
        "\n",
        "     def push(self, item):\n",
        "         self.items.append(item)\n",
        "\n",
        "     def pop(self):\n",
        "         return self.items.pop()\n",
        "\n",
        "     def peek(self):\n",
        "         return self.items[len(self.items)-1]\n",
        "\n",
        "     def size(self):\n",
        "         return len(self.items)\n",
        "     def __del__(self):\n",
        "       print(\"STACK DELETED\")    \n",
        "s1=Stack()\n",
        "s1.push(3)\n",
        "s1.push(4)\n",
        "s1.push(5)\n",
        "s1.push(6)\n",
        "print(s1.size())\n",
        "print(s1.peek())\n",
        "print(s1.pop())\n",
        "print(s1.peek())\n",
        "print(s1.pop())\n",
        "del s1\n",
        "\n",
        "\n"
      ],
      "execution_count": 21,
      "outputs": [
        {
          "output_type": "stream",
          "name": "stdout",
          "text": [
            "4\n",
            "6\n",
            "6\n",
            "5\n",
            "5\n",
            "STACK DELETED\n"
          ]
        }
      ]
    },
    {
      "cell_type": "code",
      "metadata": {
        "id": "s7xplpLW76bt"
      },
      "source": [
        ""
      ],
      "execution_count": null,
      "outputs": []
    }
  ]
}