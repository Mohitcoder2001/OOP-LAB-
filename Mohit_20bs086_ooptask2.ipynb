{
  "nbformat": 4,
  "nbformat_minor": 0,
  "metadata": {
    "colab": {
      "name": "Mohit_20bs086_ooptask2.ipynb",
      "provenance": [],
      "collapsed_sections": [],
      "authorship_tag": "ABX9TyOaGY74TeOXLFzzIOLMvm4L",
      "include_colab_link": true
    },
    "kernelspec": {
      "name": "python3",
      "display_name": "Python 3"
    },
    "language_info": {
      "name": "python"
    }
  },
  "cells": [
    {
      "cell_type": "markdown",
      "metadata": {
        "id": "view-in-github",
        "colab_type": "text"
      },
      "source": [
        "<a href=\"https://colab.research.google.com/github/Mohitcoder2001/OOP-LAB-/blob/main/Mohit_20bs086_ooptask2.ipynb\" target=\"_parent\"><img src=\"https://colab.research.google.com/assets/colab-badge.svg\" alt=\"Open In Colab\"/></a>"
      ]
    },
    {
      "cell_type": "code",
      "metadata": {
        "colab": {
          "base_uri": "https://localhost:8080/"
        },
        "id": "Z27Timt3ryky",
        "outputId": "76dc42f3-2687-4a7d-85e0-88f1816f8995"
      },
      "source": [
        "#problem -1\n",
        "class circle:\n",
        "  def __init__(self,radius):\n",
        "    self.radius = radius\n",
        "  \n",
        "  def get_area(self):\n",
        "    return 3.14*(self.radius*self.radius)\n",
        "  def get_perimeter(self):\n",
        "    return 2*3.14*self.radius\n",
        "circle1 = circle(25)\n",
        "\n",
        "print(circle1.get_area())\n",
        "print(circle1.get_perimeter())      "
      ],
      "execution_count": null,
      "outputs": [
        {
          "output_type": "stream",
          "name": "stdout",
          "text": [
            "1962.5\n",
            "157.0\n"
          ]
        }
      ]
    },
    {
      "cell_type": "code",
      "metadata": {
        "colab": {
          "base_uri": "https://localhost:8080/"
        },
        "id": "pgOURoMxtDdb",
        "outputId": "11cf0351-4794-46f0-fa27-7b376d29dd6e"
      },
      "source": [
        "#problem -2\n",
        "class details:\n",
        "  def __init__ (self,name,ID,branch,salary):\n",
        "    self.name = name\n",
        "    self.ID = ID\n",
        "    self.branch = branch\n",
        "    self.salary = salary\n",
        "    \n",
        "  def set_Name(self,name):\n",
        "     self.name = name\n",
        "  def set_ID(self,ID):\n",
        "     self.ID = ID \n",
        "  def set_branch(self,branch):\n",
        "     self.branch = branch\n",
        "  def set_salary(self,salary):\n",
        "     self.salary = salary  \n",
        "  def get_Name(self):\n",
        "    return self.name \n",
        "  def get_ID(self):\n",
        "    return self.ID \n",
        "  def get_branch(self):\n",
        "    return self.branch  \n",
        "  def get_salary(self):\n",
        "    return self.salary            \n",
        "  \n",
        "person1 = details(\"ram\",323,\"cse\",20000)\n",
        "person1.set_Name(\"Ram\")\n",
        "person1.set_ID(323)\n",
        "person1.set_branch(\"cse\")\n",
        "person1.set_salary(20000)\n",
        "print(person1.get_Name())\n",
        "print(person1.get_ID())\n",
        "print(person1.get_branch())\n",
        "print(person1.get_salary())\n",
        "\n",
        "\n",
        "  \n"
      ],
      "execution_count": null,
      "outputs": [
        {
          "output_type": "stream",
          "name": "stdout",
          "text": [
            "Ram\n",
            "323\n",
            "cse\n",
            "20000\n"
          ]
        }
      ]
    },
    {
      "cell_type": "code",
      "metadata": {
        "colab": {
          "base_uri": "https://localhost:8080/"
        },
        "id": "zH5zWFk408as",
        "outputId": "f245e935-006f-431e-fc98-4895a14cbca5"
      },
      "source": [
        "#problem -3\n",
        "class bank:\n",
        "  def __init__(self,account_no,account_name,amount):\n",
        "    self.account_no = account_no\n",
        "    self.account_name = account_name\n",
        "    self.amount = amount\n",
        "  def deposit(self):\n",
        "    print(\"How much money you want to deposit\")\n",
        "    price = (float)(input())\n",
        "    self.amount+=price\n",
        "    return self.amount\n",
        "  def withdraw(self):\n",
        "    money = (float)(input())\n",
        "    if money<=self.amount: \n",
        "         print(\"Remaining balance is {}\".format(self.amount-money))\n",
        "    else:\n",
        "      print(\"Amount cannot be withdrwan\")\n",
        "    self.amount = self.amount - money\n",
        "    return self.amount\n",
        "  def check_balance(self):\n",
        "    return self.amount    \n",
        "  def account_details(self):\n",
        "    print(self.account_name)\n",
        "    print(self.account_no)\n",
        "    print(self.amount)\n",
        "    return 0\n",
        "Mohit = bank(12121,\"Mohit\",30000)  \n",
        "print(Mohit.account_details())\n",
        "#print(Mohit.check_balance())       \n",
        "#print(Mohit.deposit())"
      ],
      "execution_count": null,
      "outputs": [
        {
          "output_type": "stream",
          "name": "stdout",
          "text": [
            "Mohit\n",
            "12121\n",
            "30000\n",
            "0\n"
          ]
        }
      ]
    },
    {
      "cell_type": "code",
      "metadata": {
        "id": "PUjfE6wh4qfe",
        "colab": {
          "base_uri": "https://localhost:8080/"
        },
        "outputId": "5edcbcdf-5a8c-42c1-ec00-c0310542fcb9"
      },
      "source": [
        "#problem - 4\n",
        "class students:\n",
        "  def __init__ (self,name,usn):\n",
        "    self.name = name \n",
        "    self.usn = usn\n",
        "    self.marks = []\n",
        "  def add_marks(self):\n",
        "    for j in range(3):\n",
        "      i = int(input(\"Enter Marks\"))\n",
        "      self.marks.append(i) \n",
        "  def details(self):\n",
        "    print(\"Name : {}\\n Marks : {}\".format(self.name,self.marks))\n",
        "Mohit = students(\"Mohit\",1)\n",
        "Mohit.add_marks()\n",
        "Mohit.details()         \n"
      ],
      "execution_count": null,
      "outputs": [
        {
          "output_type": "stream",
          "name": "stdout",
          "text": [
            "Enter Marks20\n",
            "Enter Marks25\n",
            "Enter Marks35\n",
            "Name : Mohit\n",
            " Marks : [20, 25, 35]\n"
          ]
        }
      ]
    },
    {
      "cell_type": "code",
      "metadata": {
        "id": "FXUwI7pS8sVM"
      },
      "source": [
        "    "
      ],
      "execution_count": 30,
      "outputs": []
    },
    {
      "cell_type": "code",
      "metadata": {
        "colab": {
          "base_uri": "https://localhost:8080/"
        },
        "id": "qe38tF_TlbGB",
        "outputId": "81ade7fd-3556-41bb-931e-37e1b73f895c"
      },
      "source": [
        "#problem - 7\n",
        "class students:\n",
        "  def __init__(self,name1,roll1,age1,name2,roll2,age2):\n",
        "    self.name1 = name1\n",
        "    self.roll1 = roll1\n",
        "    self.age1 = age1\n",
        "    self.name = name2\n",
        "    self.roll2 = roll2\n",
        "    self.age2 = age2\n",
        "  def compare(self):\n",
        "    if self.age1 != self.age2 :\n",
        "      print(\"Not Equal\") \n",
        "    else:\n",
        "      print(\"Equal\")\n",
        "Student = students(\"Mohit\",12,20,\"Sahil\",20,22)    \n",
        "Student.compare()\n",
        "    \n",
        "    "
      ],
      "execution_count": null,
      "outputs": [
        {
          "output_type": "stream",
          "name": "stdout",
          "text": [
            "Not Equal\n"
          ]
        }
      ]
    },
    {
      "cell_type": "code",
      "metadata": {
        "colab": {
          "base_uri": "https://localhost:8080/"
        },
        "id": "uPKpBBSdpi9J",
        "outputId": "35fd45df-bfd3-47e8-c785-f47f9eb03639"
      },
      "source": [
        "#problem - 8\n",
        "class institute:\n",
        "  def __init__(self,name,usn):\n",
        "    self.name = name \n",
        "    self.usn = usn\n",
        "class sem:\n",
        "  def __init__(self,name,usn,sem,inst):\n",
        "    self.sem  = sem \n",
        "    self.inst = inst\n",
        "    institute.__init__(self,name,usn)\n",
        "  def details(self):\n",
        "    print(\"Name : {} USN : {} SEM : {} INST : {}\".format(self.name,self.usn,self.sem,self.inst))\n",
        "DETAIL = sem(\"Mohit\",20,3,\"IIIT DHARWAD\")\n",
        "DETAIL.details()            "
      ],
      "execution_count": null,
      "outputs": [
        {
          "output_type": "stream",
          "name": "stdout",
          "text": [
            "Name : Mohit USN : 20 SEM : 3 INST : IIIT DHARWAD\n"
          ]
        }
      ]
    },
    {
      "cell_type": "code",
      "metadata": {
        "colab": {
          "base_uri": "https://localhost:8080/"
        },
        "id": "7IF0C7issifx",
        "outputId": "26a347b9-b19b-4a8c-cdcd-2849fb803b9e"
      },
      "source": [
        "#problem -9\n",
        "class student:\n",
        "  def __init__(self,name,rollno,sem):\n",
        "     self.name = name \n",
        "     self.rollno = rollno\n",
        "     self.sem = sem\n",
        "class laptop(student):\n",
        "    def __init__(self,name,rollno,sem,RAM,harddisk):\n",
        "      self.RAM = RAM\n",
        "      self.harddisk = harddisk\n",
        "\n",
        "\n",
        "      student.__init__(self,name,rollno,sem)\n",
        "    def details(self):\n",
        "     print(\"Name : {},Rollno = {},SEM = {},RAM = {},HARDDISK = {}\".format(self.name,self.rollno,self.sem,self.RAM,self.harddisk))\n",
        "STUDENT = laptop(\"Mohit\",20,3,8,512)\n",
        "STUDENT.details()           "
      ],
      "execution_count": null,
      "outputs": [
        {
          "output_type": "stream",
          "name": "stdout",
          "text": [
            "Name : Mohit,Rollno = 20,SEM = 3,RAM = 8,HARDDISK = 512\n"
          ]
        }
      ]
    },
    {
      "cell_type": "code",
      "metadata": {
        "id": "bfljfTovxBEl",
        "colab": {
          "base_uri": "https://localhost:8080/"
        },
        "outputId": "a7149aa2-5c68-42ff-ceb6-7399880cab1b"
      },
      "source": [
        "#problem - 5\n",
        "class hospital:\n",
        "  def __init__(self,name,ol,date):\n",
        "    self.name = name \n",
        "    self.ol = ol\n",
        "    self.date = date\n",
        "    self.symptoms = []\n",
        "  def details(self):\n",
        "    self.age = (int)(input(\"Enter Age\"))\n",
        "    symptom = (input(\"Enter Symptom:\"))\n",
        "    self.symptoms.append(symptom)\n",
        "    self.discharge = input(\"Enter discharge date\")\n",
        "  def display(self):\n",
        "     print(self.name)\n",
        "     print(self.age)\n",
        "     print(self.symptoms)\n",
        "     print(self.ol)\n",
        "     print(self.date)\n",
        "     print(self.discharge)\n",
        "  def severity(self):\n",
        "     self.gw = 0\n",
        "     self.os = 0\n",
        "     if self.ol > 90:\n",
        "       self.gw = self.gw + 1\n",
        "     else:\n",
        "       self.os = self.os + 1\n",
        "  def GW(self):\n",
        "      print(\"Patient in genral ward are {}\".format(self.gw))\n",
        "  def O_S(self):\n",
        "      print(\"Pateint in oxygen supoort are {}\".format(self.os))\n",
        "  def total(self):\n",
        "      print(\"Total pateint are {}\".format(self.gw + self.os))  \n",
        "pateint1 = hospital(\"Mohit\",92,\"12-05-2021\")\n",
        "pateint1.details()\n",
        "pateint1.display()\n",
        "pateint1.severity()\n",
        "pateint1.GW()\n",
        "pateint1.O_S()\n",
        "pateint1.total()               "
      ],
      "execution_count": 28,
      "outputs": [
        {
          "output_type": "stream",
          "name": "stdout",
          "text": [
            "Enter Age20\n",
            "Enter Symptom:corona\n",
            "Enter discharge date16/05/2021\n",
            "Mohit\n",
            "20\n",
            "['corona']\n",
            "92\n",
            "12-05-2021\n",
            "16/05/2021\n",
            "Patient in genral ward are 1\n",
            "Pateint in oxygen supoort are 0\n",
            "Total pateint are 1\n"
          ]
        }
      ]
    },
    {
      "cell_type": "code",
      "metadata": {
        "colab": {
          "base_uri": "https://localhost:8080/"
        },
        "id": "hioF2lRCC8EQ",
        "outputId": "12bf4993-f333-459d-dcd5-1ddb9c08e6ff"
      },
      "source": [
        "#problem -6\n",
        "class time:\n",
        "    def globe(self):\n",
        "        self.hours = 0\n",
        "        self.minutes = 0\n",
        "        self.seconds = 0\n",
        "\n",
        "    def clock(self, hours, minutes, seconds):\n",
        "        if seconds > 59:\n",
        "            Minutes = seconds // 60\n",
        "            seconds = seconds % 60\n",
        "            self.seconds = seconds\n",
        "            self.minutes = Minutes + minutes\n",
        "        else:\n",
        "            self.seconds = seconds\n",
        "            self.minutes = minutes\n",
        "\n",
        "        if self.minutes > 59:\n",
        "            Hours = self.minutes // 60\n",
        "            self.minutes = self.minutes % 60\n",
        "            self.hours = Hours + hours\n",
        "        else:\n",
        "            self.minutes = minutes\n",
        "            self.hours = hours\n",
        "\n",
        "    def display(self):\n",
        "        print(f\"Time : {self.hours}::{self.minutes}::{self.seconds}\")\n",
        "\n",
        "time1 = time()\n",
        "time1.globe()\n",
        "time1.display()\n",
        "time1.clock(20, 59, 59)\n",
        "time1.display()\n",
        "\n"
      ],
      "execution_count": 30,
      "outputs": [
        {
          "output_type": "stream",
          "name": "stdout",
          "text": [
            "Time : 0::0::0\n",
            "Time : 20::59::59\n"
          ]
        }
      ]
    }
  ]
}