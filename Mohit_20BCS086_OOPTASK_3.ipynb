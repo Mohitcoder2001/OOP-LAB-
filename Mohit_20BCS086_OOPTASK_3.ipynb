{
  "nbformat": 4,
  "nbformat_minor": 0,
  "metadata": {
    "colab": {
      "name": "Mohit_20BCS086_OOPTASK-3.ipynb",
      "provenance": [],
      "collapsed_sections": [],
      "authorship_tag": "ABX9TyOgj3jjJGaN/Wvc9+paIxDq",
      "include_colab_link": true
    },
    "kernelspec": {
      "name": "python3",
      "display_name": "Python 3"
    },
    "language_info": {
      "name": "python"
    }
  },
  "cells": [
    {
      "cell_type": "markdown",
      "metadata": {
        "id": "view-in-github",
        "colab_type": "text"
      },
      "source": [
        "<a href=\"https://colab.research.google.com/github/Mohitcoder2001/OOP-LAB-/blob/main/Mohit_20BCS086_OOPTASK_3.ipynb\" target=\"_parent\"><img src=\"https://colab.research.google.com/assets/colab-badge.svg\" alt=\"Open In Colab\"/></a>"
      ]
    },
    {
      "cell_type": "code",
      "metadata": {
        "colab": {
          "base_uri": "https://localhost:8080/"
        },
        "id": "VyUUNHyOoQgS",
        "outputId": "4fcfa11a-e873-40f2-9490-3c9d4ab73af5"
      },
      "source": [
        "# problem - 1\n",
        "class student:\n",
        "  def __init__(self,name):\n",
        "    self.name = name\n",
        "    \n",
        "  \n",
        "  \n",
        "class studentresultinfo(student):\n",
        "  def __init__(self,name,total_marks):\n",
        "    self.total_marks = total_marks\n",
        "    \n",
        "\n",
        "    student.__init__(self,name)\n",
        "  def read(self):\n",
        "    \n",
        "    self.reg = (int)(input(\"Enter roll no : \"))\n",
        "    self.age = (int)(input(\"Enter your age : \"))\n",
        "    self.gender = input(\"Enter your gender : \")\n",
        "    self.branch = input(\"Enter your branch : \")\n",
        "    self.sem = (int)(input(\"Enter your sem : \"))\n",
        "    self.percentage = (self.total_marks)/5\n",
        "    self.grade = input(\"Enter your Grade : \")  \n",
        "  def display(self):\n",
        "    print(\"Name : {}\\nREG = {}\\nAGE = {}\\nGENDER = {}\\nBRANCH = {}\\nSEM = {}\\nTOTAL_MARKS = {}\\nPERCENTAGE = {}\\nGRADE = {}\\n\".format(self.name,self.reg,self.age,self.gender,self.branch,self.sem,self.total_marks,self.percentage,self.grade)) \n",
        "    \n",
        "    \n",
        "STUDENT1 = student(\"Mohit\")\n",
        "\n",
        "STUDENT1  = studentresultinfo(\"Mohit\",400)\n",
        "STUDENT1.read()\n",
        "STUDENT1.display()\n",
        "\n"
      ],
      "execution_count": 11,
      "outputs": [
        {
          "output_type": "stream",
          "name": "stdout",
          "text": [
            "Enter roll no : 86\n",
            "Enter your age : 20\n",
            "Enter your gender : Male\n",
            "Enter your branch : CSE\n",
            "Enter your sem : 3\n",
            "Enter your Grade : A-\n",
            "Name : Mohit\n",
            "REG = 86\n",
            "AGE = 20\n",
            "GENDER = Male\n",
            "BRANCH = CSE\n",
            "SEM = 3\n",
            "TOTAL_MARKS = 400\n",
            "PERCENTAGE = 80.0\n",
            "GRADE = A-\n",
            "\n"
          ]
        }
      ]
    },
    {
      "cell_type": "code",
      "metadata": {
        "colab": {
          "base_uri": "https://localhost:8080/"
        },
        "id": "rh9-1Ne1uAEW",
        "outputId": "c2eec6bd-cb9a-434f-d411-b69bb621721d"
      },
      "source": [
        "# problem - 3\n",
        "class vechicle:\n",
        "  def __init__(self):\n",
        "    self.name =  input(\"Enter the vechcile : \")\n",
        "    self.mileage = (int)(input(\"Enter the mileage : \"))\n",
        "    self.capacity = (int)(input(\"Enter the capacity : \"))\n",
        "  \n",
        "  def display1(self):\n",
        "    print(\"Name : {}\\nMileage = {}\\nCapacity = {}\\nTOTAL_FARE = {}\\n\".format(self.name,self.mileage,self.capacity,self.fare))   \n",
        "class bus(vechicle):\n",
        "  def __init__(self):\n",
        "    vechicle.__init__(self)\n",
        "  def fare(self):\n",
        "    self.fare = self.capacity * 100\n",
        "    if self.capacity > 50 :\n",
        "         self.fare = self.capacity * 100 + ((self.capacity * 100)*0.1)\n",
        "    else:\n",
        "      self.fare = self.capacity * 100\n",
        "   \n",
        "VECHICLE1 = bus()\n",
        "VECHICLE1.fare()\n",
        "VECHICLE1.display1()       "
      ],
      "execution_count": 20,
      "outputs": [
        {
          "output_type": "stream",
          "name": "stdout",
          "text": [
            "Enter the vechcile : Car\n",
            "Enter the mileage : 26\n",
            "Enter the capacity : 52\n",
            "Name : Car\n",
            "Mileage = 26\n",
            "Capacity = 52\n",
            "TOTAL_FARE = 5720.0\n",
            "\n"
          ]
        }
      ]
    },
    {
      "cell_type": "code",
      "metadata": {
        "colab": {
          "base_uri": "https://localhost:8080/"
        },
        "id": "quEKeUgR2d50",
        "outputId": "99cb2fa9-e790-4b74-fb65-c42a14e15982"
      },
      "source": [
        "#problem - 2\n",
        "class pdf:\n",
        "  def __init__(self):\n",
        "    self.name  = input(\"Enter the file name : \")\n",
        "    self.size = (int)(input(\"Enter the file size(in kb) : \"))\n",
        "  def check(self):\n",
        "    if self.size > 200 :\n",
        "      print(\"File size too big \")\n",
        "    else:\n",
        "      print(\"Size accepted\")\n",
        "  def show(self):\n",
        "    print(\"NAME : {}\\nSIZE = {}kb\".format(self.name,self.size))\n",
        "class picture(pdf):\n",
        "  def __init__(self):\n",
        "    pdf.__init__(self)\n",
        "    self.length = (int)(input(\"Enter the length of picture(in mm) : \"))\n",
        "    self.breadth = (int)(input(\"Enter the breadth of picture(in mm) : \"))\n",
        "    \n",
        "    \n",
        "  def check2(self):\n",
        "    if (self.length > 600) or (self.breadth > 800) or (self.size > 200) :\n",
        "    \n",
        "      print(\"Size is too large \")\n",
        "    else:\n",
        "      print(\"Size accepted \")\n",
        "  def details(self):\n",
        "     print(\"NAME : {}\\nSIZE = {}kb\\nLENGTH = {}mm\\nBREADTH = {}mm\".format(self.name,self.size,self.length,self.breadth))\n",
        "doc = pdf()\n",
        "doc.check()\n",
        "doc.show()\n",
        "doc = picture()\n",
        "doc.check2()\n",
        "doc.details()         \n",
        "                  "
      ],
      "execution_count": 29,
      "outputs": [
        {
          "output_type": "stream",
          "name": "stdout",
          "text": [
            "Enter the file name : Mohit\n",
            "Enter the file size(in kb) : 210\n",
            "File size too big \n",
            "NAME : Mohit\n",
            "SIZE = 210kb\n",
            "Enter the file name : saini\n",
            "Enter the file size(in kb) : 210\n",
            "Enter the length of picture(in mm) : 310\n",
            "Enter the breadth of picture(in mm) : 410\n",
            "Size is too large \n",
            "NAME : saini\n",
            "SIZE = 210kb\n",
            "LENGTH = 310mm\n",
            "BREADTH = 410mm\n"
          ]
        }
      ]
    },
    {
      "cell_type": "code",
      "metadata": {
        "id": "Snw4oAOoBcM1"
      },
      "source": [
        ""
      ],
      "execution_count": null,
      "outputs": []
    }
  ]
}