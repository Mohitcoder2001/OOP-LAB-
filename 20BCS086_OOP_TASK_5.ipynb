{
  "nbformat": 4,
  "nbformat_minor": 0,
  "metadata": {
    "colab": {
      "name": "20BCS086_OOP_TASK_5.ipynb",
      "provenance": [],
      "collapsed_sections": [],
      "authorship_tag": "ABX9TyNqdEEf4WXCV+aatNU92Tny",
      "include_colab_link": true
    },
    "kernelspec": {
      "name": "python3",
      "display_name": "Python 3"
    },
    "language_info": {
      "name": "python"
    }
  },
  "cells": [
    {
      "cell_type": "markdown",
      "metadata": {
        "id": "view-in-github",
        "colab_type": "text"
      },
      "source": [
        "<a href=\"https://colab.research.google.com/github/Mohitcoder2001/OOP-LAB-/blob/main/20BCS086_OOP_TASK_5.ipynb\" target=\"_parent\"><img src=\"https://colab.research.google.com/assets/colab-badge.svg\" alt=\"Open In Colab\"/></a>"
      ]
    },
    {
      "cell_type": "code",
      "metadata": {
        "id": "YNhFS_buaK_V"
      },
      "source": [
        "#question -1\n",
        "import math\n",
        "class shape:\n",
        "  pass\n",
        "class circle(shape):\n",
        "  def __init__(self,radius):\n",
        "    self.radius = radius\n",
        "  def area(self):\n",
        "    self.area = math.pi*(self.radius**2)\n",
        "    return self.area\n",
        "class rectangle(shape):\n",
        "  def __init__(self,length,width):\n",
        "    self.length = length\n",
        "    self.width = width\n",
        "  def area(self):\n",
        "    self.area = self.length * self.width\n",
        "    return self.area          "
      ],
      "execution_count": 1,
      "outputs": []
    },
    {
      "cell_type": "code",
      "metadata": {
        "colab": {
          "base_uri": "https://localhost:8080/"
        },
        "id": "YHMR0MqPbcne",
        "outputId": "79210389-5841-4617-b429-e18cb3f6c9cc"
      },
      "source": [
        "# question - 2\n",
        "class travel :\n",
        "  def __init__(self,passenger,distance,transport):\n",
        "    self.__passenger = passenger\n",
        "    self.distance = distance \n",
        "    self.transport = transport\n",
        "  def no_of_passenger(self):\n",
        "    return self.__passenger\n",
        "class train(travel):\n",
        "  def __init__(self,passenger,distance):\n",
        "    travel.__init__(self,passenger,distance,\"train\")\n",
        "  def cost(self):\n",
        "    self.cost = 60 * travel.no_of_passenger(self)  \n",
        "    return self.cost\n",
        "class bus(travel):\n",
        "  def __init__(self,passenger,distance):\n",
        "    travel.__init__(self,passenger,distance,\"bus\")\n",
        "  def cost(self):\n",
        "    self.cost = 100 * travel.no_of_passenger(self)  \n",
        "    return self.cost\n",
        "t1 = train(1000,500)\n",
        "print(t1.cost())\n",
        "b1 = bus(60,100)\n",
        "print(b1.cost())    \n"
      ],
      "execution_count": 2,
      "outputs": [
        {
          "output_type": "stream",
          "name": "stdout",
          "text": [
            "60000\n",
            "6000\n"
          ]
        }
      ]
    },
    {
      "cell_type": "code",
      "metadata": {
        "colab": {
          "base_uri": "https://localhost:8080/"
        },
        "id": "XrA7_KaKddIH",
        "outputId": "e3598bbf-f4cf-4c4a-8a4f-f027e5a171b8"
      },
      "source": [
        "# question - 3\n",
        "class car:\n",
        "  def __init__(self,model):\n",
        "    self.model = model\n",
        "  \n",
        "  \n",
        "car1 = car('X')\n",
        "car2 = car('Y')\n",
        "car1.model,car2.model = car2.model,car1.model\n",
        "\n",
        "print(car1.model ,car2.model)      "
      ],
      "execution_count": 15,
      "outputs": [
        {
          "output_type": "stream",
          "name": "stdout",
          "text": [
            "Y X\n"
          ]
        }
      ]
    },
    {
      "cell_type": "code",
      "metadata": {
        "id": "4i71cfszegAm"
      },
      "source": [
        ""
      ],
      "execution_count": null,
      "outputs": []
    }
  ]
}