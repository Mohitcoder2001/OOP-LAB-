{
  "nbformat": 4,
  "nbformat_minor": 0,
  "metadata": {
    "colab": {
      "name": "OOP LAB ASSINMENT - 1.ipynb",
      "provenance": [],
      "collapsed_sections": []
    },
    "kernelspec": {
      "name": "python3",
      "display_name": "Python 3"
    },
    "language_info": {
      "name": "python"
    }
  },
  "cells": [
    {
      "cell_type": "code",
      "metadata": {
        "colab": {
          "base_uri": "https://localhost:8080/"
        },
        "id": "tLGcJGojLOqN",
        "outputId": "5135a35e-8063-4a67-afe8-7fc7fc80cebe"
      },
      "source": [
        "#problem-5\n",
        "BP = (float)(input(\"Enter the salary : \"))\n",
        "def grosssalary(BP):\n",
        "          DA = BP*.4\n",
        "          HRA = BP*.2\n",
        "          GP = BP + DA + HRA\n",
        "          return GP\n",
        "print(grosssalary(BP))                    "
      ],
      "execution_count": 2,
      "outputs": [
        {
          "output_type": "stream",
          "name": "stdout",
          "text": [
            "Enter the salary : 1500.53\n",
            "2400.848\n"
          ]
        }
      ]
    },
    {
      "cell_type": "code",
      "metadata": {
        "colab": {
          "base_uri": "https://localhost:8080/"
        },
        "id": "aTrf5crZL4gH",
        "outputId": "eb30f838-e3b5-42c1-a9d6-3bbe53770bfd"
      },
      "source": [
        "#problem -3\n",
        "GUESTS = ['Hardik', 'Rahul','Virat','Rishabh', 'Mahi','Rohit','Rahane']\n",
        "LENGTH = len(GUESTS)\n",
        "i = (int)(LENGTH/2)\n",
        "for k in range(i,LENGTH-1):\n",
        "  print(GUESTS[k] + \" is late\")"
      ],
      "execution_count": 5,
      "outputs": [
        {
          "output_type": "stream",
          "name": "stdout",
          "text": [
            "Rishabh is late\n",
            "Mahi is late\n",
            "Rohit is late\n"
          ]
        }
      ]
    },
    {
      "cell_type": "code",
      "metadata": {
        "colab": {
          "base_uri": "https://localhost:8080/"
        },
        "id": "tcUx1tuvNQWz",
        "outputId": "f874925a-9019-4454-ceea-4db746c1933c"
      },
      "source": [
        "#problem -2\n",
        "n = (int)(input(\"Enter the number : \"))\n",
        "if n%2!=0:\n",
        "  print(\"Weird\")\n",
        "else:\n",
        "  if n>20 :\n",
        "    print(\"Not Weird\")\n",
        "  else:\n",
        "    if n in range(2,5):\n",
        "        print(\"Not Weird\")\n",
        "    else:\n",
        "        print(\"Weird\")     \n",
        "         "
      ],
      "execution_count": 17,
      "outputs": [
        {
          "output_type": "stream",
          "name": "stdout",
          "text": [
            "Enter the number : 13\n",
            "Weird\n"
          ]
        }
      ]
    },
    {
      "cell_type": "code",
      "metadata": {
        "colab": {
          "base_uri": "https://localhost:8080/"
        },
        "id": "uaFwNIq9QgVc",
        "outputId": "57c71ade-f0ed-4895-808e-89de6d1b6c4a"
      },
      "source": [
        "#problem -1\n",
        "year = (int)(input(\"Enter the Year : \"))\n",
        "flag = 0\n",
        "def check(year):\n",
        "     if (year % 4) == 0:\n",
        "        if (year % 100) == 0:\n",
        "            if (year % 400) == 0:\n",
        "                return True\n",
        "                \n",
        "            else:\n",
        "                return False\n",
        "                \n",
        "        else: \n",
        "            return True\n",
        "            \n",
        "     else:\n",
        "        return False\n",
        "        \n",
        "print(check(year))        "
      ],
      "execution_count": 16,
      "outputs": [
        {
          "output_type": "stream",
          "name": "stdout",
          "text": [
            "Enter the Year : 2000\n",
            "True\n"
          ]
        }
      ]
    },
    {
      "cell_type": "code",
      "metadata": {
        "colab": {
          "base_uri": "https://localhost:8080/"
        },
        "id": "_-tDsO7_SYlP",
        "outputId": "babc7f7b-8fa7-4148-fc38-1f40226df0db"
      },
      "source": [
        "#problem - 4\n",
        "doc_list = ['The Learn Python Challenge','They bought a car','bangalore']\n",
        "\n",
        "def word_search(doc_list, keyword):\n",
        "    my_list = []\n",
        "    for doc in doc_list:\n",
        "        curr_doc = doc.lower()\n",
        "        try:\n",
        "            curr_index = curr_doc.index(keyword.lower())\n",
        "            my_list.append(curr_index)\n",
        "        except:\n",
        "            my_list.append(None)\n",
        "    return my_list\n",
        "#program is returning the index from where the keyword starts\n",
        "print(word_search(doc_list,'car'))    \n",
        "\n",
        "    "
      ],
      "execution_count": 25,
      "outputs": [
        {
          "output_type": "stream",
          "name": "stdout",
          "text": [
            "[None, 14, None]\n"
          ]
        }
      ]
    },
    {
      "cell_type": "code",
      "metadata": {
        "id": "24Ckj0aLVFJq"
      },
      "source": [
        ""
      ],
      "execution_count": null,
      "outputs": []
    }
  ]
}
